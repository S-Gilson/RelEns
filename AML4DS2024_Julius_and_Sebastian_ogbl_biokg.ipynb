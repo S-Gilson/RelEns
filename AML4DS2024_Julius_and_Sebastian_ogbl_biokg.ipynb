{
  "cells": [
    {
      "cell_type": "markdown",
      "metadata": {
        "id": "view-in-github",
        "colab_type": "text"
      },
      "source": [
        "<a href=\"https://colab.research.google.com/github/S-Gilson/RelEns/blob/main/AML4DS2024_Julius_and_Sebastian_ogbl_biokg.ipynb\" target=\"_parent\"><img src=\"https://colab.research.google.com/assets/colab-badge.svg\" alt=\"Open In Colab\"/></a>"
      ]
    },
    {
      "cell_type": "markdown",
      "metadata": {
        "id": "QKXVnZvBKuN-"
      },
      "source": [
        "###Introduction\n",
        "This is the code for Julius and Sebastian's mini-project for AML4DS2024. The presentation can be found [here](https://docs.google.com/presentation/d/1Xw1sKKe3qXG26of2zVgMLBXaFcX-zkS6eJjDuFATK44/edit?usp=sharing).\n",
        "\n",
        "Our mini-project is based on one of OGB's benchmark Knowledge Graphs (KG), specificlaly the Biomedical Knowledge Graph (ogbl-biokg). Information about the KG can be found [here](https://ogb.stanford.edu/docs/linkprop/#ogbl-biokg).\n",
        "\n",
        "We use the ComplEx model as our baseline model, first introduced by Trouillon et al. in [*Complex Embeddings for Simple Link Prediction*](https://arxiv.org/pdf/1606.06357) in 2016.\n",
        "\n",
        "The implementation of the ComplEx model is inspired by the [following project](https://github.com/pyg-team/pytorch_geometric/blob/master/examples/kge_fb15k_237.py), which is an implementation of ComplEx on FB15K_237. As you can see below, we have imported the ComplEx model via the [pytorch module](https://github.com/pyg-team/pytorch_geometric/blob/2947af7733d87315a9218a0bfabbfda10b595f0e/torch_geometric/nn/kge/complex.py).\n",
        "\n",
        "\n",
        "The networkx and data visualisation code in this notebook is based on [the following](https://colab.research.google.com/drive/1n1edsDTR3s2T3OSi6EiIf0rHzHKSES_R?usp=sharing#scrollTo=XlzbhoxhGMXz) from Hasso Plattner Institute's (HPI) course on KGs.\n"
      ]
    },
    {
      "cell_type": "markdown",
      "metadata": {
        "id": "-GzMhI3ULqNm"
      },
      "source": [
        "### Dependencies"
      ]
    },
    {
      "cell_type": "code",
      "execution_count": 3,
      "metadata": {
        "colab": {
          "base_uri": "https://localhost:8080/"
        },
        "id": "xc8O_A8S-138",
        "outputId": "fc018275-e456-4348-b6db-aaeaa7731533"
      },
      "outputs": [
        {
          "output_type": "stream",
          "name": "stdout",
          "text": [
            "\u001b[?25l     \u001b[90m━━━━━━━━━━━━━━━━━━━━━━━━━━━━━━━━━━━━━━━━\u001b[0m \u001b[32m0.0/78.8 kB\u001b[0m \u001b[31m?\u001b[0m eta \u001b[36m-:--:--\u001b[0m\r\u001b[2K     \u001b[91m━━━━━━━━━━━━━━━━━━━━━━━━━━━━━━━\u001b[0m\u001b[90m╺\u001b[0m\u001b[90m━━━━━━━━\u001b[0m \u001b[32m61.4/78.8 kB\u001b[0m \u001b[31m1.8 MB/s\u001b[0m eta \u001b[36m0:00:01\u001b[0m\r\u001b[2K     \u001b[90m━━━━━━━━━━━━━━━━━━━━━━━━━━━━━━━━━━━━━━━━\u001b[0m \u001b[32m78.8/78.8 kB\u001b[0m \u001b[31m1.1 MB/s\u001b[0m eta \u001b[36m0:00:00\u001b[0m\n",
            "\u001b[?25h  Preparing metadata (setup.py) ... \u001b[?25l\u001b[?25hdone\n",
            "  Building wheel for littleutils (setup.py) ... \u001b[?25l\u001b[?25hdone\n",
            "\u001b[2K     \u001b[90m━━━━━━━━━━━━━━━━━━━━━━━━━━━━━━━━━━━━━━━━\u001b[0m \u001b[32m1.1/1.1 MB\u001b[0m \u001b[31m3.0 MB/s\u001b[0m eta \u001b[36m0:00:00\u001b[0m\n",
            "\u001b[?25h"
          ]
        }
      ],
      "source": [
        "!pip install -q ogb\n",
        "!pip install -q torch_geometric"
      ]
    },
    {
      "cell_type": "code",
      "execution_count": 4,
      "metadata": {
        "id": "qXz-N7WnAuL7"
      },
      "outputs": [],
      "source": [
        "from ogb.linkproppred import LinkPropPredDataset\n",
        "import pandas as pd\n",
        "import networkx as nx\n",
        "import numpy as np\n",
        "import matplotlib.pyplot as plt\n",
        "import os\n",
        "from google.colab import drive\n",
        "import torch\n",
        "import torch.optim as optim\n",
        "from torch_geometric.nn import ComplEx, GCNConv\n",
        "from tqdm import tqdm"
      ]
    },
    {
      "cell_type": "code",
      "execution_count": 10,
      "metadata": {
        "colab": {
          "base_uri": "https://localhost:8080/"
        },
        "id": "kJLd8d7T_Ko8",
        "outputId": "ca0fa287-773c-4971-d6d8-ee93d99a5075"
      },
      "outputs": [
        {
          "output_type": "stream",
          "name": "stdout",
          "text": [
            "Mounted at /content/gdrive\n"
          ]
        }
      ],
      "source": [
        "from google.colab import drive\n",
        "drive.mount('/content/gdrive')"
      ]
    },
    {
      "cell_type": "code",
      "execution_count": null,
      "metadata": {
        "colab": {
          "base_uri": "https://localhost:8080/"
        },
        "id": "oqnps-Bn9MHv",
        "outputId": "1b1abff2-89f3-4cd5-db24-704e9a30c88e"
      },
      "outputs": [
        {
          "output_type": "stream",
          "name": "stdout",
          "text": [
            "cpu\n",
            "/bin/bash: line 1: nvidia-smi: command not found\n"
          ]
        }
      ],
      "source": [
        "device = 'cuda' if torch.cuda.is_available() else 'cpu'\n",
        "print(device)\n",
        "!nvidia-smi"
      ]
    },
    {
      "cell_type": "markdown",
      "metadata": {
        "id": "Yl3WDA0fLu_N"
      },
      "source": [
        "### Dataset"
      ]
    },
    {
      "cell_type": "code",
      "execution_count": null,
      "metadata": {
        "colab": {
          "base_uri": "https://localhost:8080/"
        },
        "id": "M0yGFMwsnSLd",
        "outputId": "4ccea0a5-573d-4f43-dda8-d5ec26450f50"
      },
      "outputs": [
        {
          "output_type": "stream",
          "name": "stdout",
          "text": [
            "dict_keys(['edge_index_dict', 'edge_feat_dict', 'node_feat_dict', 'num_nodes_dict', 'edge_reltype'])\n",
            "Dictionary of number of nodes under each entity in the dataset:  {'disease': 10687, 'drug': 10533, 'function': 45085, 'protein': 17499, 'sideeffect': 9969}\n"
          ]
        }
      ],
      "source": [
        "# Google Colab path to dataset\n",
        "root = '/content/gdrive/MyDrive/OGB_Folder'\n",
        "\n",
        "# Loading the dataset\n",
        "dataset = LinkPropPredDataset(name = \"ogbl-biokg\", root=root)\n",
        "\n",
        "graph = dataset[0]\n",
        "print(graph.keys())\n",
        "print(\"Dictionary of number of nodes under each entity in the dataset: \", graph['num_nodes_dict'])"
      ]
    },
    {
      "cell_type": "code",
      "execution_count": null,
      "metadata": {
        "id": "JJ5xeErgp44u"
      },
      "outputs": [],
      "source": [
        "train_set_path = '/content/gdrive/MyDrive/OGB_Folder/ogbl_biokg/split/random/train.pt'\n",
        "test_set_path = '/content/gdrive/MyDrive/OGB_Folder/ogbl_biokg/split/random/test.pt'\n",
        "valid_set_path = '/content/gdrive/MyDrive/OGB_Folder/ogbl_biokg/split/random/valid.pt'\n",
        "\n",
        "# Loading the train dataset\n",
        "train_set = torch.load(train_set_path)\n",
        "test_set = torch.load(test_set_path)\n",
        "valid_set = torch.load(valid_set_path)"
      ]
    },
    {
      "cell_type": "code",
      "execution_count": null,
      "metadata": {
        "colab": {
          "base_uri": "https://localhost:8080/"
        },
        "id": "Av94_eHsguDs",
        "outputId": "daabd227-0eed-4c03-e1f1-0c673e9b157e"
      },
      "outputs": [
        {
          "name": "stdout",
          "output_type": "stream",
          "text": [
            "dict_keys(['head_type', 'head', 'relation', 'tail_type', 'tail'])\n"
          ]
        }
      ],
      "source": [
        "print(train_set.keys())"
      ]
    },
    {
      "cell_type": "code",
      "execution_count": null,
      "metadata": {
        "colab": {
          "base_uri": "https://localhost:8080/"
        },
        "id": "QYb0q6eBrRA_",
        "outputId": "3da53dec-9cc8-4154-bc96-d7a3d1b209e2"
      },
      "outputs": [
        {
          "name": "stdout",
          "output_type": "stream",
          "text": [
            "head_type: ['disease', 'disease', 'disease', 'disease', 'disease']\n",
            "head: [ 1718  4903  5480  3148 10300]\n",
            "relation: [0 0 0 0 0]\n",
            "tail_type: ['protein', 'protein', 'protein', 'protein', 'protein']\n",
            "tail: [ 3207 13662 15999  7247 16202]\n"
          ]
        }
      ],
      "source": [
        "# First five item/triples in the train_set\n",
        "for key in train_set.keys():\n",
        "    if isinstance(train_set[key], list) or isinstance(train_set[key], np.ndarray):\n",
        "        print(f\"{key}: {train_set[key][:5]}\")"
      ]
    },
    {
      "cell_type": "markdown",
      "metadata": {
        "id": "tu4ygpBhnG2x"
      },
      "source": [
        "\n",
        "Note that 'relation' being '0' does not mean there is no relation - 0 is the ID of the 'disease-protein' relation.\n",
        "\n"
      ]
    },
    {
      "cell_type": "code",
      "execution_count": null,
      "metadata": {
        "cellView": "form",
        "colab": {
          "base_uri": "https://localhost:8080/",
          "height": 468
        },
        "id": "royH4tHacIyw",
        "outputId": "f668aaeb-761e-4e44-dc8d-d10d2bffe2bc"
      },
      "outputs": [
        {
          "data": {
            "image/png": "[encoded data removed]",
            "text/plain": [
              "<Figure size 2100x600 with 5 Axes>"
            ]
          },
          "metadata": {},
          "output_type": "display_data"
        }
      ],
      "source": [
        "# @title First five triples in train_set visualised\n",
        "def plot_graph(data, num_triples=5):\n",
        "    fig, axs = plt.subplots(1, num_triples, figsize=(21, 6))\n",
        "    fig.suptitle('First five triples in train_set')\n",
        "\n",
        "    # Add the first num_triples triples into the graph\n",
        "    for i in range(num_triples):\n",
        "        # Create a new directed graph\n",
        "        G = nx.DiGraph()\n",
        "\n",
        "        head_type = data['head_type'][i]\n",
        "        head = data['head'][i]\n",
        "        relation = data['relation'][i]\n",
        "        tail_type = data['tail_type'][i]\n",
        "        tail = data['tail'][i]\n",
        "\n",
        "        # each edge is labeled with the relation\n",
        "        G.add_edge(head, tail, label=relation)\n",
        "\n",
        "        # Use spring layout to spread out the nodes\n",
        "        pos = nx.spring_layout(G)\n",
        "\n",
        "        # Draw the graph\n",
        "        nx.draw(G, pos, with_labels=True, node_color='lightblue', ax=axs[i])\n",
        "\n",
        "        # Box in the subplot\n",
        "        axs[i].set_box_aspect(1)\n",
        "        axs[i].set_xlim([-1.5, 1.5])\n",
        "        axs[i].set_ylim([-1.5, 1.5])\n",
        "\n",
        "        # Set the visibility of the box\n",
        "        for spine in axs[i].spines.values():\n",
        "            spine.set_visible(True)\n",
        "\n",
        "    plt.show()\n",
        "\n",
        "# Apply the function to the train_set\n",
        "plot_graph(train_set)\n"
      ]
    },
    {
      "cell_type": "code",
      "execution_count": null,
      "metadata": {
        "colab": {
          "base_uri": "https://localhost:8080/"
        },
        "id": "NOSEDEppnsMQ",
        "outputId": "4e1ee9e2-4235-4a0d-c8af-07a45619bdff"
      },
      "outputs": [
        {
          "name": "stdout",
          "output_type": "stream",
          "text": [
            "head_type: ['disease', 'disease', 'disease', 'disease', 'disease']\n",
            "head: [1429 9419  829  170 4677]\n",
            "head_neg: [[  733  7110  8687 ...  2971  2020  4890]\n",
            " [ 5460  4316 10332 ...  8677  2024  2321]\n",
            " [ 4085  9310  9537 ...  2887  9712  6667]\n",
            " [ 3597  2619   910 ...  7882  3384  1865]\n",
            " [ 6170  5880  3868 ...  7028  7244  3232]]\n",
            "relation: [0 0 0 0 0]\n",
            "tail_type: ['protein', 'protein', 'protein', 'protein', 'protein']\n",
            "tail: [10178 14320  8662  5020 13550]\n",
            "tail_neg: [[13523  5150  9448 ...  5313  6520   755]\n",
            " [ 8929 16549 15866 ... 11901  3427  5040]\n",
            " [ 6087   113 10905 ...  2057  7327  3016]\n",
            " [ 4952  8535 11105 ...  5772  6612  3273]\n",
            " [ 7516  8824 16958 ... 15000  5258 15198]]\n"
          ]
        }
      ],
      "source": [
        "# First five items/triples in the test_set - note that the negatives turns it into a 2-dimensional array\n",
        "for key in test_set.keys():\n",
        "    value = test_set[key]\n",
        "    if isinstance(value, list) or isinstance(value, np.ndarray):\n",
        "        print(f\"{key}: {value[:5]}\")  # adjust the number as needed\n",
        "    else:\n",
        "        print(f\"{key}: {value}\")\n"
      ]
    },
    {
      "cell_type": "code",
      "execution_count": null,
      "metadata": {
        "cellView": "form",
        "colab": {
          "base_uri": "https://localhost:8080/",
          "height": 559
        },
        "id": "W15g3pWYcwma",
        "outputId": "edce54e0-9b96-46e9-cc6d-a5d468bfd16a"
      },
      "outputs": [
        {
          "data": {
            "image/png": "[encoded data removed]",
            "text/plain": [
              "<Figure size 2100x600 with 5 Axes>"
            ]
          },
          "metadata": {},
          "output_type": "display_data"
        }
      ],
      "source": [
        "# @title First five triples from test_set with negative head and tail examples highlighted in red\n",
        "def plot_data(data, num_triples=5):\n",
        "    fig, axs = plt.subplots(1, num_triples, figsize=(21, 6))\n",
        "    fig.suptitle('First five triples in test_set')\n",
        "\n",
        "    # Add the first num_triples triples into the graph\n",
        "    for i in range(num_triples):\n",
        "        # Create a new directed graph\n",
        "        G = nx.DiGraph()\n",
        "\n",
        "        head_type = data['head_type'][i]\n",
        "        head = data['head'][i]\n",
        "        relation = data['relation'][i]\n",
        "        tail_type = data['tail_type'][i]\n",
        "        tail = data['tail'][i]\n",
        "\n",
        "        # each edge is labeled with the relation\n",
        "        G.add_edge(head, tail, label=relation)\n",
        "\n",
        "        # Add one negative head and one negative tail as red nodes\n",
        "        neg_head = data['head_neg'][i][0]\n",
        "        G.add_node(neg_head, color='red')\n",
        "        G.add_edge(neg_head, tail, label='neg_relation')\n",
        "\n",
        "        neg_tail = data['tail_neg'][i][0]\n",
        "        G.add_node(neg_tail, color='red')\n",
        "        G.add_edge(head, neg_tail, label='neg_relation')\n",
        "\n",
        "        # Use spring layout to spread out the nodes\n",
        "        pos = nx.spring_layout(G)\n",
        "\n",
        "        # Draw the graph\n",
        "        nx.draw_networkx_edges(G, pos, ax=axs[i])\n",
        "        nx.draw_networkx_labels(G, pos, ax=axs[i])\n",
        "        nx.draw_networkx_nodes(G, pos, node_color=[data.get('color', 'lightblue') for node, data in G.nodes(data=True)], ax=axs[i])\n",
        "\n",
        "    plt.show()\n",
        "\n",
        "# Apply the function to the test_set\n",
        "plot_data(test_set)"
      ]
    },
    {
      "cell_type": "code",
      "execution_count": null,
      "metadata": {
        "colab": {
          "base_uri": "https://localhost:8080/"
        },
        "id": "8HMLJdM1tV-s",
        "outputId": "646f3dbe-6e75-4ffa-86dd-d6ce634317e6"
      },
      "outputs": [
        {
          "name": "stdout",
          "output_type": "stream",
          "text": [
            "head_type: ['disease', 'disease', 'disease', 'disease', 'disease']\n",
            "head: [3935  287 1094  495 4794]\n",
            "head_neg: [[ 3851  3068  1491 ...  2037  2439  3054]\n",
            " [ 5450  8003  5639 ...   591  7041  6457]\n",
            " [ 7967   511 10340 ...  1435  8675   855]\n",
            " [ 7824  7715  9241 ...  1017  6573  4944]\n",
            " [ 4050 10509  1316 ...  1965   317  6017]]\n",
            "relation: [0 0 0 0 0]\n",
            "tail_type: ['protein', 'protein', 'protein', 'protein', 'protein']\n",
            "tail: [ 1987   530 17013  1521 13055]\n",
            "tail_neg: [[ 2143  7551 14670 ...  1992  1301 11845]\n",
            " [ 1497  3374  5463 ...  1915 12673  9105]\n",
            " [ 6621  7033 12053 ... 14110  7381 13653]\n",
            " [13612 10499 11981 ... 13037 16606 15828]\n",
            " [ 1110 14995 10961 ... 11054  4400  9870]]\n"
          ]
        }
      ],
      "source": [
        "# First five items/triples in the valid_set\n",
        "\n",
        "for key in valid_set.keys():\n",
        "    value = valid_set[key]\n",
        "    if isinstance(value, list) or isinstance(value, np.ndarray):\n",
        "        print(f\"{key}: {value[:5]}\")  # adjust the number as needed\n",
        "    else:\n",
        "        print(f\"{key}: {value}\")"
      ]
    },
    {
      "cell_type": "markdown",
      "metadata": {
        "id": "fLcfvN6jksKf"
      },
      "source": [
        "The total number of edges (train_set, valid_set and test_set) amounts to 5,088,434."
      ]
    },
    {
      "cell_type": "code",
      "execution_count": null,
      "metadata": {
        "id": "qgcieNKYOUy7"
      },
      "outputs": [],
      "source": [
        "paths = {\n",
        "    'disease': '/content/gdrive/MyDrive/OGB_Folder/ogbl_biokg/mapping/disease_entidx2name.csv.gz',\n",
        "    'drug': '/content/gdrive/MyDrive/OGB_Folder/ogbl_biokg/mapping/drug_entidx2name.csv.gz',\n",
        "    'function': '/content/gdrive/MyDrive/OGB_Folder/ogbl_biokg/mapping/function_entidx2name.csv.gz',\n",
        "    'sideeffect': '/content/gdrive/MyDrive/OGB_Folder/ogbl_biokg/mapping/sideeffect_entidx2name.csv.gz',\n",
        "    'protein': '/content/gdrive/MyDrive/OGB_Folder/ogbl_biokg/mapping/protein_entidx2name.csv.gz',\n",
        "    'relation': '/content/gdrive/MyDrive/OGB_Folder/ogbl_biokg/mapping/relidx2relname.csv.gz'\n",
        "}"
      ]
    },
    {
      "cell_type": "code",
      "execution_count": null,
      "metadata": {
        "colab": {
          "base_uri": "https://localhost:8080/"
        },
        "id": "KrSfp0AAPVSj",
        "outputId": "3955d7ee-b8b9-40eb-ba45-1542079658d1"
      },
      "outputs": [
        {
          "name": "stdout",
          "output_type": "stream",
          "text": [
            "The original label of protein 1718 is: 117285\n"
          ]
        }
      ],
      "source": [
        "# Define the path to your protein mapping file\n",
        "protein_mapping_path = '/content/gdrive/MyDrive/OGB_Folder/ogbl_biokg/mapping/protein_entidx2name.csv.gz'\n",
        "\n",
        "# Load the mapping file into a DataFrame\n",
        "protein_mapping_df = pd.read_csv(protein_mapping_path, index_col=0)\n",
        "\n",
        "# Convert the DataFrame to a dictionary\n",
        "protein_mapping = protein_mapping_df['ent name'].to_dict()\n",
        "\n",
        "# Get the original label for protein 1718\n",
        "original_label = protein_mapping.get(1718)  # Use integer 1718\n",
        "\n",
        "if original_label is not None:\n",
        "    print(f'The original label of protein 1718 is: {original_label}')\n",
        "else:\n",
        "    print(\"The ID 1718 is not found in the protein mapping.\")\n"
      ]
    },
    {
      "cell_type": "markdown",
      "metadata": {
        "id": "b-gqkTYET4n9"
      },
      "source": [
        "Based on genenames.org, gene id 117285 is\n",
        "'defensin beta 118' - which is a gene that allows protein to encode anti-bacterial properties."
      ]
    },
    {
      "cell_type": "markdown",
      "metadata": {
        "id": "OjPPog-Brzcc"
      },
      "source": [
        "## Visualisation"
      ]
    },
    {
      "cell_type": "markdown",
      "metadata": {
        "id": "8IY0TcAZvkY-"
      },
      "source": [
        "Visualising the entire knowledge graph is computationally expensive and includes so many nodes and labels that it is not possible to derive any meaning out of it. Instead, we will visualise a sub-graph to showcase the graph structure."
      ]
    },
    {
      "cell_type": "code",
      "execution_count": null,
      "metadata": {
        "colab": {
          "base_uri": "https://localhost:8080/",
          "height": 636
        },
        "id": "ySaB0BBlY4wV",
        "outputId": "d327be66-1647-440b-a4d8-435fb4cd604e",
        "cellView": "form"
      },
      "outputs": [
        {
          "data": {
            "image/png": "[encoded data removed]",
            "text/plain": [
              "<Figure size 800x600 with 1 Axes>"
            ]
          },
          "metadata": {},
          "output_type": "display_data"
        }
      ],
      "source": [
        "# @title Below is a visualisation of drug-drug triplets\n",
        "# Load the .csv.gz file into a pandas DataFrame\n",
        "df = pd.read_csv('/content/gdrive/MyDrive/OGB_Folder/ogbl_biokg/mapping/drug_entidx2name.csv.gz', compression='gzip')\n",
        "\n",
        "# Create a dictionary to map node ids to entity types\n",
        "node_to_entity = df.set_index('ent idx')['ent name'].to_dict()\n",
        "\n",
        "# Modify the loop where you add edges to also add node attributes\n",
        "# Only add one edge (two nodes)\n",
        "source, target = edge_list[:, 0]\n",
        "G.add_edge(source.item(), target.item())\n",
        "G.nodes[source.item()]['entity_type'] = node_to_entity.get(source.item(), 'Unknown')\n",
        "G.nodes[target.item()]['entity_type'] = node_to_entity.get(target.item(), 'Unknown')\n",
        "\n",
        "# Modify the drawing code to include labels with entity types\n",
        "plt.figure(figsize=(8, 6))\n",
        "pos = nx.spring_layout(G)\n",
        "labels = {node: f'{node} ({data.get(\"entity_type\", \"Unknown\")})' for node, data in G.nodes(data=True)}\n",
        "\n",
        "# Draw the nodes\n",
        "nx.draw(G, pos, node_color='lightblue')\n",
        "\n",
        "# Draw the node labels\n",
        "for node, (x, y) in pos.items():\n",
        "    plt.text(x, y, labels[node], fontsize=12, ha='center')\n",
        "\n",
        "plt.show()\n"
      ]
    },
    {
      "cell_type": "markdown",
      "source": [
        "Wow! A lot is going on.. Let's look at one triplet instead."
      ],
      "metadata": {
        "id": "XWlZqxNXon5s"
      }
    },
    {
      "cell_type": "code",
      "execution_count": null,
      "metadata": {
        "cellView": "form",
        "colab": {
          "base_uri": "https://localhost:8080/",
          "height": 836
        },
        "id": "0X8f3n59fU-V",
        "outputId": "47515e92-ff8f-4a82-e72e-1cfba902145a"
      },
      "outputs": [
        {
          "data": {
            "image/png": "[encoded data removed]",
            "text/plain": [
              "<Figure size 1200x800 with 1 Axes>"
            ]
          },
          "metadata": {},
          "output_type": "display_data"
        }
      ],
      "source": [
        "# @title Let's have a look at a simple example from the dataset\n",
        "\n",
        "# Load the .csv.gz file into a pandas DataFrame\n",
        "df = pd.read_csv('/content/gdrive/MyDrive/OGB_Folder/ogbl_biokg/mapping/drug_entidx2name.csv.gz', compression='gzip')\n",
        "\n",
        "# Create a dictionary to map node ids to entity types\n",
        "node_to_entity = df.set_index('ent idx')['ent name'].to_dict()\n",
        "\n",
        "# Create a new directed graph\n",
        "G = nx.DiGraph()\n",
        "\n",
        "# Add edges to the graph from your edge_index_dict\n",
        "edge_index_dict = graph['edge_index_dict']\n",
        "edge_list = edge_index_dict[('drug', 'drug-drug_sexual_disorder', 'drug')]\n",
        "\n",
        "# Number of edges to add\n",
        "num_edges = 1\n",
        "\n",
        "for i in range(min(num_edges, edge_list.shape[1])):\n",
        "    source, target = edge_list[:, i]\n",
        "    G.add_edge(source.item(), target.item())\n",
        "    G.add_edge(target.item(), source.item())  # relations of the same entity types are symmetric, i.e. we need to add the edge in each direction\n",
        "    G.nodes[source.item()]['entity_type'] = node_to_entity.get(source.item(), 'Unknown')\n",
        "    G.nodes[target.item()]['entity_type'] = node_to_entity.get(target.item(), 'Unknown')\n",
        "\n",
        "# Draw the graph\n",
        "plt.figure(figsize=(12, 8))\n",
        "\n",
        "# Use spring layout to spread out the nodes\n",
        "# Set a fixed seed for the layout algorithm\n",
        "pos = nx.spring_layout(G, seed=42)\n",
        "\n",
        "# Create labels with entity types\n",
        "labels = {node: f'{node} ({data[\"entity_type\"]})' for node, data in G.nodes(data=True)}\n",
        "\n",
        "# Draw the nodes and labels\n",
        "nx.draw(G, pos, labels=labels, node_color='lightblue')\n",
        "\n",
        "plt.show()\n"
      ]
    },
    {
      "cell_type": "markdown",
      "source": [
        "###CID000003823 is the drug Ketoconazole - a cream used in the management and treatment of fungal infection.\n",
        "###CID000005647 is the drug Valtrex - an antiviral drug that treats herpes infections. Intuitively, it makes sense that these drugs have a connection."
      ],
      "metadata": {
        "id": "qqyBRj0Tploj"
      }
    },
    {
      "cell_type": "markdown",
      "metadata": {
        "id": "bCsRR8ED-2oK"
      },
      "source": [
        "## Model 2\n",
        "Model 2 is our first succesful implementation of the ComplEx model.\n",
        "Notice the amount of unique nodes, relations and head types in the training data!"
      ]
    },
    {
      "cell_type": "code",
      "execution_count": null,
      "metadata": {
        "colab": {
          "base_uri": "https://localhost:8080/"
        },
        "id": "uEqRuyzVGpDr",
        "outputId": "29e6145b-854c-4163-a839-90733e4e4325"
      },
      "outputs": [
        {
          "output_type": "stream",
          "name": "stdout",
          "text": [
            "Number of unique nodes in training data graph: 45085\n",
            "Number of unique relations in training data graph: 51\n"
          ]
        }
      ],
      "source": [
        "unique_nodes = set(train_set['head']).union(set(train_set['tail']))\n",
        "num_nodes = len(unique_nodes)\n",
        "print(f'Number of unique nodes in training data graph: {num_nodes}')\n",
        "\n",
        "unique_relations = set(train_set['relation'])\n",
        "num_relations = len(unique_relations)\n",
        "print(f'Number of unique relations in training data graph: {num_relations}')"
      ]
    },
    {
      "cell_type": "code",
      "execution_count": null,
      "metadata": {
        "colab": {
          "base_uri": "https://localhost:8080/"
        },
        "id": "LBV_bJraUhsm",
        "outputId": "d854bbbc-fe75-46a2-ac53-c95bd80420bf"
      },
      "outputs": [
        {
          "data": {
            "text/plain": [
              "4762678"
            ]
          },
          "execution_count": 23,
          "metadata": {},
          "output_type": "execute_result"
        }
      ],
      "source": [
        "len(train_set['head_type'])"
      ]
    },
    {
      "cell_type": "markdown",
      "source": [
        "The amount of training data affected our ability to train the model - and it was necessary for us to create a subset of the training data to be able to train succesfully. Obviously, this comes with a cost that we will discuss further down."
      ],
      "metadata": {
        "id": "FJR3l4IVraFa"
      }
    },
    {
      "cell_type": "code",
      "execution_count": null,
      "metadata": {
        "colab": {
          "base_uri": "https://localhost:8080/"
        },
        "id": "78H4t_6OIb4p",
        "outputId": "d00f143f-400c-4710-b156-49330de91b4f"
      },
      "outputs": [
        {
          "name": "stdout",
          "output_type": "stream",
          "text": [
            "8774\n",
            "<class 'torch.Tensor'>\n",
            "<class 'torch.Tensor'>\n",
            "<class 'torch.Tensor'>\n",
            "<class 'torch.Tensor'>\n",
            "<class 'torch.Tensor'>\n",
            "<class 'torch.Tensor'>\n"
          ]
        }
      ],
      "source": [
        "small_size = 10000\n",
        "\n",
        "small_sample=np.random.randint(len(train_set[\"head\"]),size=small_size)\n",
        "\n",
        "small_train_set = {\n",
        "    'head': train_set['head'][small_sample],\n",
        "    'relation': train_set['relation'][small_sample],\n",
        "    'tail': train_set['tail'][small_sample],\n",
        "}\n",
        "\n",
        "unique_nodes = set(small_train_set['head']).union(set(small_train_set['tail']))\n",
        "rel_types = set(small_train_set['relation'])\n",
        "\n",
        "small_test_size = int(small_size/5)\n",
        "small_test_set = {\n",
        "    'head': [0]*small_test_size,\n",
        "    'relation': [0]*small_test_size,\n",
        "    'tail': [0]*small_test_size,\n",
        "}\n",
        "\n",
        "index=0\n",
        "current_test_size=0\n",
        "\n",
        "while current_test_size < small_test_size:\n",
        "  if test_set['head'][index] in unique_nodes and test_set['tail'][index] in unique_nodes and test_set['relation'][index] in rel_types:\n",
        "    small_test_set[\"head\"][current_test_size] = test_set['head'][index]\n",
        "    small_test_set[\"relation\"][current_test_size] = test_set['relation'][index]\n",
        "    small_test_set[\"tail\"][current_test_size] = test_set['tail'][index]\n",
        "    current_test_size+=1\n",
        "  index+=1\n",
        "\n",
        "small_valid_size = int(small_size/5)\n",
        "\n",
        "small_valid_set = {\n",
        "    'head': [0] * small_valid_size,\n",
        "    'relation': [0] * small_valid_size,\n",
        "    'tail': [0] * small_valid_size,\n",
        "}\n",
        "\n",
        "index=0\n",
        "current_valid_size=0\n",
        "\n",
        "while current_valid_size < small_valid_size:\n",
        "  if valid_set['head'][index] in unique_nodes and valid_set['tail'][index] in unique_nodes and valid_set['relation'][index] in rel_types:\n",
        "    small_valid_set[\"head\"][current_valid_size] = valid_set['head'][index]\n",
        "    small_valid_set[\"relation\"][current_valid_size] = valid_set['relation'][index]\n",
        "    small_valid_set[\"tail\"][current_valid_size] = valid_set['tail'][index]\n",
        "    current_valid_size+=1\n",
        "  index+=1\n",
        "\n",
        "ent2idx={}\n",
        "for idx, val in enumerate(unique_nodes):\n",
        "  ent2idx[val]=idx\n",
        "\n",
        "rel2idx={}\n",
        "for idx, val in enumerate(rel_types):\n",
        "  rel2idx[val]=idx\n",
        "\n",
        "for i in range(small_size):\n",
        "  small_train_set[\"head\"][i] = ent2idx[small_train_set[\"head\"][i]]\n",
        "  small_train_set[\"relation\"][i] = rel2idx[small_train_set[\"relation\"][i]]\n",
        "  small_train_set[\"tail\"][i] = ent2idx[small_train_set[\"tail\"][i]]\n",
        "\n",
        "for i in range(small_test_size): #Techniqually you should also have one for validation, but they are the same size\n",
        "  small_test_set[\"head\"][i] = ent2idx[small_test_set[\"head\"][i]]\n",
        "  small_test_set[\"relation\"][i] = rel2idx[small_test_set[\"relation\"][i]]\n",
        "  small_test_set[\"tail\"][i] = ent2idx[small_test_set[\"tail\"][i]]\n",
        "\n",
        "  small_valid_set[\"head\"][i] = ent2idx[small_valid_set[\"head\"][i]]\n",
        "  small_valid_set[\"relation\"][i] = rel2idx[small_valid_set[\"relation\"][i]]\n",
        "  small_valid_set[\"tail\"][i] = ent2idx[small_valid_set[\"tail\"][i]]\n",
        "\n",
        "small_train_set[\"head\"] = np.asarray(small_train_set[\"head\"])\n",
        "small_train_set[\"relation\"] = np.asarray(small_train_set[\"relation\"])\n",
        "small_train_set[\"tail\"] = np.asarray(small_train_set[\"tail\"])\n",
        "\n",
        "small_test_set[\"head\"] = np.asarray(small_test_set[\"head\"])\n",
        "small_test_set[\"relation\"] = np.asarray(small_test_set[\"relation\"])\n",
        "small_test_set[\"tail\"] = np.asarray(small_test_set[\"tail\"])\n",
        "\n",
        "small_valid_set[\"head\"] = np.asarray(small_valid_set[\"head\"])\n",
        "small_valid_set[\"relation\"] = np.asarray(small_valid_set[\"relation\"])\n",
        "small_valid_set[\"tail\"] = np.asarray(small_valid_set[\"tail\"])\n",
        "\n",
        "# To use the loader, we first need to transform the arrays into torch tensors:\n",
        "head_tensor = torch.from_numpy(small_train_set['head'])\n",
        "print(type(head_tensor))\n",
        "rel_type_tensor = torch.from_numpy(small_train_set['relation'])\n",
        "print(type(rel_type_tensor))\n",
        "tail_tensor = torch.from_numpy(small_train_set['tail'])\n",
        "print(type(tail_tensor))\n",
        "\n",
        "test_head_tensor = torch.from_numpy(small_test_set['head'])\n",
        "print(type(test_head_tensor))\n",
        "test_rel_type_tensor = torch.from_numpy(small_test_set['relation'])\n",
        "print(type(test_rel_type_tensor))\n",
        "test_tail_tensor = torch.from_numpy(small_test_set['tail'])\n",
        "print(type(test_tail_tensor))"
      ]
    },
    {
      "cell_type": "code",
      "execution_count": null,
      "metadata": {
        "id": "v9vO7KF4-XRs"
      },
      "outputs": [],
      "source": [
        "model2 = ComplEx(num_nodes=num_nodes,\n",
        "                num_relations=num_relations,\n",
        "                hidden_channels=10)\n",
        "\n",
        "loader = model2.loader(\n",
        "    head_index=head_tensor,\n",
        "    rel_type=rel_type_tensor,\n",
        "    tail_index=tail_tensor,\n",
        "    batch_size=1000,\n",
        "    shuffle=True,\n",
        ")\n",
        "\n",
        "optimizer = optim.Adam(model2.parameters(), lr=0.0015)"
      ]
    },
    {
      "cell_type": "markdown",
      "source": [
        "In defining the model, we had to remove the L2 regularizer. After training a couple of instances, we realised that L2 regularizer affected the training to such a large degree that it did not minimise the cost function - see model 5 for an example of this."
      ],
      "metadata": {
        "id": "7G-r0ixYsaeo"
      }
    },
    {
      "cell_type": "code",
      "execution_count": null,
      "metadata": {
        "id": "Uhk8F5hsMoB0"
      },
      "outputs": [],
      "source": [
        "def train():\n",
        "    model2.train()\n",
        "    total_loss = total_examples = 0\n",
        "    for head_index, rel_type, tail_index in loader:\n",
        "        optimizer.zero_grad()\n",
        "        loss = model2.loss(head_index, rel_type, tail_index)\n",
        "        loss.backward()\n",
        "        optimizer.step()\n",
        "        total_loss += float(loss) * head_index.numel()\n",
        "        total_examples += head_index.numel()\n",
        "    return total_loss / total_examples\n",
        "\n",
        "@torch.no_grad()\n",
        "def test(head_index, rel_type, tail_index):\n",
        "    model2.eval()\n",
        "    return model2.test(\n",
        "        head_index=head_index,\n",
        "        rel_type=rel_type,\n",
        "        tail_index=tail_index,\n",
        "        batch_size=1000,\n",
        "        k=10,\n",
        "    )"
      ]
    },
    {
      "cell_type": "markdown",
      "source": [
        "Most of the time, we had to train on the cpu and not Colab's GPU due to usage limits."
      ],
      "metadata": {
        "id": "Nt-fsicIsM-p"
      }
    },
    {
      "cell_type": "code",
      "execution_count": null,
      "metadata": {
        "colab": {
          "base_uri": "https://localhost:8080/"
        },
        "id": "sbsQUWnT1WIB",
        "outputId": "4d20f54f-eabd-4185-ffd3-9cf7f0d950bb"
      },
      "outputs": [
        {
          "name": "stdout",
          "output_type": "stream",
          "text": [
            "cpu\n"
          ]
        }
      ],
      "source": [
        "print(device)"
      ]
    },
    {
      "cell_type": "code",
      "execution_count": null,
      "metadata": {
        "colab": {
          "base_uri": "https://localhost:8080/"
        },
        "id": "PR65EgVMMq-T",
        "outputId": "1aef1c4f-d3c2-4fd5-9c0e-e00b5e43ba44"
      },
      "outputs": [
        {
          "name": "stderr",
          "output_type": "stream",
          "text": [
            "100%|██████████| 10000/10000 [03:44<00:00, 44.47it/s]\n"
          ]
        },
        {
          "name": "stdout",
          "output_type": "stream",
          "text": [
            "Epoch: 025, Val Mean Rank: 180.86, Val MRR: 0.3280, Val Hits@10: 0.5721 Loss: 0.545136672258377\n"
          ]
        },
        {
          "name": "stderr",
          "output_type": "stream",
          "text": [
            "100%|██████████| 10000/10000 [03:43<00:00, 44.84it/s]\n"
          ]
        },
        {
          "name": "stdout",
          "output_type": "stream",
          "text": [
            "Epoch: 050, Val Mean Rank: 42.70, Val MRR: 0.3857, Val Hits@10: 0.6527 Loss: 0.391302558779716\n"
          ]
        },
        {
          "name": "stderr",
          "output_type": "stream",
          "text": [
            "100%|██████████| 10000/10000 [03:41<00:00, 45.07it/s]\n"
          ]
        },
        {
          "name": "stdout",
          "output_type": "stream",
          "text": [
            "Epoch: 075, Val Mean Rank: 18.05, Val MRR: 0.3973, Val Hits@10: 0.6782 Loss: 0.373057952523231\n"
          ]
        },
        {
          "name": "stderr",
          "output_type": "stream",
          "text": [
            "100%|██████████| 10000/10000 [03:42<00:00, 44.86it/s]\n"
          ]
        },
        {
          "name": "stdout",
          "output_type": "stream",
          "text": [
            "Epoch: 100, Val Mean Rank: 14.67, Val MRR: 0.4003, Val Hits@10: 0.6856 Loss: 0.371125939488411\n"
          ]
        },
        {
          "name": "stderr",
          "output_type": "stream",
          "text": [
            "100%|██████████| 2000/2000 [00:43<00:00, 45.77it/s]"
          ]
        },
        {
          "name": "stdout",
          "output_type": "stream",
          "text": [
            "Test Mean Rank: 22208.13, Test MRR: 0.0071, Test Hits@10: 0.0120\n"
          ]
        },
        {
          "name": "stderr",
          "output_type": "stream",
          "text": [
            "\n"
          ]
        }
      ],
      "source": [
        "for epoch in range(1, 101):\n",
        "    loss = train()\n",
        "    #print(f'Epoch: {epoch:03d}, Loss: {loss:.4f}')\n",
        "    if epoch % 25 == 0:\n",
        "      rank, mrr, hits = test(head_tensor, rel_type_tensor, tail_tensor)\n",
        "      print(f'Epoch: {epoch:03d}, Val Mean Rank: {rank:.2f}, '\n",
        "            f'Val MRR: {mrr:.4f}, Val Hits@10: {hits:.4f} '\n",
        "            f'Loss: {loss:.15f}')\n",
        "\n",
        "rank, mrr, hits_at_10 = test(test_head_tensor, test_rel_type_tensor, test_tail_tensor)\n",
        "print(f'Test Mean Rank: {rank:.2f}, Test MRR: {mrr:.4f}, '\n",
        "      f'Test Hits@10: {hits_at_10:.4f}')"
      ]
    },
    {
      "cell_type": "code",
      "execution_count": null,
      "metadata": {
        "colab": {
          "base_uri": "https://localhost:8080/"
        },
        "id": "j7KpGpiWRtcL",
        "outputId": "a89e5d4a-12ce-49a7-ef51-5a5cf3dc733c"
      },
      "outputs": [
        {
          "name": "stdout",
          "output_type": "stream",
          "text": [
            "{'Val MRR': 0.007132587488740683, 'Val Hits@10': 0.012, 'Loss': 0.37112593948841094, 'Test Mean Rank': 22208.126953125, 'Test MRR': 0.007132587488740683, 'Test Hits@10': 0.012}\n"
          ]
        }
      ],
      "source": [
        "model_save_name = 'model2.pt'\n",
        "path = f\"/content/gdrive/MyDrive/OGB_Folder/Trained models/{model_save_name}\"\n",
        "\n",
        "# Assuming `metrics` is a dictionary containing your evaluation metrics\n",
        "metrics = {'Val MRR': mrr, 'Val Hits@10': val_hits, 'Loss': loss, 'Test Mean Rank': rank, 'Test MRR': mrr, 'Test Hits@10': hits_at_10}\n",
        "\n",
        "# Save model state_dict and metrics\n",
        "torch.save({\n",
        "    'model_state_dict': model2.state_dict(),\n",
        "    'metrics': metrics\n",
        "}, path)\n",
        "\n",
        "print(metrics)"
      ]
    },
    {
      "cell_type": "markdown",
      "source": [
        "So, we achieved a Val MRR of 0.007 and 'Val Hits@10' of 0.012. Quite a bit from the [leaderboard](https://ogb.stanford.edu/docs/leader_linkprop/#ogbl-biokg) Val MRR score of 0.9627!"
      ],
      "metadata": {
        "id": "mHYB7q2ls7YB"
      }
    },
    {
      "cell_type": "markdown",
      "metadata": {
        "id": "nXi5fFMU0Ybp"
      },
      "source": [
        "## Model 3\n",
        "* For model 3, we have removed the l2 regularizer - with an obvious risk of overfitting. The model did not perform particularly well, so it will not hurt to try. Perhaps L2 regularization hindered the training because the model is not strong enough to learn patterns in the data in the first place.\n",
        "* We have also increased tried increasing the learning rate from 0.001 --> 0.0005 and hidden dimensions  10 --> 20 and  100 --> 150 epochs. And increasing the subset of training data size: 10000 --> 20000"
      ]
    },
    {
      "cell_type": "code",
      "execution_count": null,
      "metadata": {
        "colab": {
          "base_uri": "https://localhost:8080/"
        },
        "id": "alAU5UJMIvyi",
        "outputId": "4500514d-3250-4223-ec60-77300b9bf85b",
        "cellView": "form"
      },
      "outputs": [
        {
          "name": "stdout",
          "output_type": "stream",
          "text": [
            "13628\n"
          ]
        }
      ],
      "source": [
        "# @title Similar code for model\n",
        "# We accidentally added model 4 code here, so please ignore this code. But the results are for model 3.\n",
        "head_tensor = torch.from_numpy(train_set['head'])\n",
        "rel_type_tensor = torch.from_numpy(train_set['relation'])\n",
        "tail_tensor = torch.from_numpy(train_set['tail'])\n",
        "\n",
        "test_head_tensor = torch.from_numpy(test_set['head'])\n",
        "test_rel_type_tensor = torch.from_numpy(test_set['relation'])\n",
        "test_tail_tensor = torch.from_numpy(test_set['tail'])\n",
        "\n",
        "model4 = ComplEx(num_nodes=num_nodes,\n",
        "                num_relations=num_relations,\n",
        "                hidden_channels=10)\n",
        "\n",
        "loader = model4.loader(\n",
        "    head_index=head_tensor,\n",
        "    rel_type=rel_type_tensor,\n",
        "    tail_index=tail_tensor,\n",
        "    batch_size=1000,\n",
        "    shuffle=True,\n",
        ")\n",
        "\n",
        "optimizer = optim.Adam(model.parameters(), lr=0.0015)  #\n",
        "\n",
        "def train4():\n",
        "    model4.train()\n",
        "    total_loss = total_examples = 0\n",
        "    for head_index, rel_type, tail_index in loader:\n",
        "        optimizer.zero_grad()\n",
        "        loss = model.loss(head_index, rel_type, tail_index)\n",
        "        loss.backward()\n",
        "        optimizer.step()\n",
        "        total_loss += float(loss) * head_index.numel()\n",
        "        total_examples += head_index.numel()\n",
        "    return total_loss / total_examples\n",
        "\n",
        "\n",
        "@torch.no_grad()\n",
        "def test4(head_index, rel_type, tail_index):\n",
        "    model4.eval()\n",
        "    return model4.test(\n",
        "        head_index=head_index,\n",
        "        rel_type=rel_type,\n",
        "        tail_index=tail_index,\n",
        "        batch_size=1000,\n",
        "    )\n",
        "\n",
        "for epoch in range(1, 101):\n",
        "    loss = train4()\n",
        "    if epoch % 25 == 0:\n",
        "        rank, mrr, hits = test4(test_head_tensor, test_rel_type_tensor, test_tail_tensor)\n",
        "        print(f'Epoch: {epoch:03d}, Test Mean Rank: {rank:.2f}, '\n",
        "              f'Test MRR: {mrr:.4f}, Test Hits@10: {hits:.4f} '\n",
        "              f'Loss: {loss:.15f}')\n"
      ]
    },
    {
      "cell_type": "code",
      "execution_count": null,
      "metadata": {
        "id": "mUpkGSlQIvyj",
        "cellView": "form"
      },
      "outputs": [],
      "source": [
        "# @title Similar code\n",
        "model4 = ComplEx(num_nodes=num_nodes,\n",
        "                num_relations=num_relations,\n",
        "                hidden_channels=20)\n",
        "\n",
        "loader = model4.loader(\n",
        "    head_index=head_tensor,\n",
        "    rel_type=rel_type_tensor,\n",
        "    tail_index=tail_tensor,\n",
        "    batch_size=1000,\n",
        "    shuffle=True,\n",
        ")\n",
        "\n",
        "optimizer = optim.Adam(model4.parameters(), lr=0.0005) # removed weight decay again"
      ]
    },
    {
      "cell_type": "code",
      "execution_count": null,
      "metadata": {
        "id": "B7dMgWvZIvyk",
        "cellView": "form"
      },
      "outputs": [],
      "source": [
        "# @title Default title text\n",
        "def train4():\n",
        "    model4.train()\n",
        "    total_loss = total_examples = 0\n",
        "    for head_index, rel_type, tail_index in loader:\n",
        "        optimizer.zero_grad()\n",
        "        loss = model2.loss(head_index, rel_type, tail_index)\n",
        "        loss.backward()\n",
        "        optimizer.step()\n",
        "        total_loss += float(loss) * head_index.numel()\n",
        "        total_examples += head_index.numel()\n",
        "    return total_loss / total_examples\n",
        "\n",
        "@torch.no_grad()\n",
        "def test4(head_index, rel_type, tail_index):\n",
        "    model4.eval()\n",
        "    return model4.test(\n",
        "        head_index=head_index,\n",
        "        rel_type=rel_type,\n",
        "        tail_index=tail_index,\n",
        "        batch_size=1000,\n",
        "        k=10,\n",
        "    )"
      ]
    },
    {
      "cell_type": "code",
      "execution_count": null,
      "metadata": {
        "colab": {
          "base_uri": "https://localhost:8080/"
        },
        "id": "BxKHyQhDIvyk",
        "outputId": "dab2a58d-0bd6-4c42-c894-fad4e8fe4738"
      },
      "outputs": [
        {
          "name": "stderr",
          "output_type": "stream",
          "text": [
            "100%|██████████| 20000/20000 [09:03<00:00, 36.77it/s]\n"
          ]
        },
        {
          "name": "stdout",
          "output_type": "stream",
          "text": [
            "Epoch: 025, Val Mean Rank: 22600.85, Val MRR: 0.0003, Val Hits@10: 0.0003 Loss: 0.720603200793266\n"
          ]
        },
        {
          "name": "stderr",
          "output_type": "stream",
          "text": [
            "100%|██████████| 20000/20000 [08:40<00:00, 38.39it/s]\n"
          ]
        },
        {
          "name": "stdout",
          "output_type": "stream",
          "text": [
            "Epoch: 050, Val Mean Rank: 22600.85, Val MRR: 0.0003, Val Hits@10: 0.0003 Loss: 0.719888070225716\n"
          ]
        },
        {
          "name": "stderr",
          "output_type": "stream",
          "text": [
            "100%|██████████| 20000/20000 [08:44<00:00, 38.12it/s]\n"
          ]
        },
        {
          "name": "stdout",
          "output_type": "stream",
          "text": [
            "Epoch: 075, Val Mean Rank: 22600.85, Val MRR: 0.0003, Val Hits@10: 0.0003 Loss: 0.720477440953255\n"
          ]
        },
        {
          "name": "stderr",
          "output_type": "stream",
          "text": [
            "100%|██████████| 20000/20000 [08:41<00:00, 38.36it/s]\n"
          ]
        },
        {
          "name": "stdout",
          "output_type": "stream",
          "text": [
            "Epoch: 100, Val Mean Rank: 22600.85, Val MRR: 0.0003, Val Hits@10: 0.0003 Loss: 0.720313009619713\n"
          ]
        },
        {
          "name": "stderr",
          "output_type": "stream",
          "text": [
            "100%|██████████| 20000/20000 [08:39<00:00, 38.48it/s]\n"
          ]
        },
        {
          "name": "stdout",
          "output_type": "stream",
          "text": [
            "Epoch: 125, Val Mean Rank: 22600.85, Val MRR: 0.0003, Val Hits@10: 0.0003 Loss: 0.720134562253952\n"
          ]
        },
        {
          "name": "stderr",
          "output_type": "stream",
          "text": [
            "100%|██████████| 20000/20000 [08:40<00:00, 38.44it/s]\n"
          ]
        },
        {
          "name": "stdout",
          "output_type": "stream",
          "text": [
            "Epoch: 150, Val Mean Rank: 22600.85, Val MRR: 0.0003, Val Hits@10: 0.0003 Loss: 0.719861853122711\n"
          ]
        },
        {
          "name": "stderr",
          "output_type": "stream",
          "text": [
            "100%|██████████| 4000/4000 [01:50<00:00, 36.29it/s]"
          ]
        },
        {
          "name": "stdout",
          "output_type": "stream",
          "text": [
            "Test Mean Rank: 22711.81, Test MRR: 0.0002, Test Hits@10: 0.0000\n"
          ]
        },
        {
          "name": "stderr",
          "output_type": "stream",
          "text": [
            "\n"
          ]
        }
      ],
      "source": [
        "for epoch in range(1, 151):\n",
        "    loss = train3()\n",
        "    #print(f'Epoch: {epoch:03d}, Loss: {loss:.4f}')\n",
        "    if epoch % 25 == 0:\n",
        "      rank, mrr, hits = test3(head_tensor, rel_type_tensor, tail_tensor)\n",
        "      print(f'Epoch: {epoch:03d}, Val Mean Rank: {rank:.2f}, '\n",
        "            f'Val MRR: {mrr:.4f}, Val Hits@10: {hits:.4f} '\n",
        "            f'Loss: {loss:.15f}')\n",
        "\n",
        "rank, mrr, hits_at_10 = test3(test_head_tensor, test_rel_type_tensor, test_tail_tensor)\n",
        "print(f'Test Mean Rank: {rank:.2f}, Test MRR: {mrr:.4f}, '\n",
        "      f'Test Hits@10: {hits_at_10:.4f}')"
      ]
    },
    {
      "cell_type": "code",
      "execution_count": null,
      "metadata": {
        "colab": {
          "base_uri": "https://localhost:8080/"
        },
        "id": "f0kj1dD0Ivyl",
        "outputId": "0ee3b7a6-1988-4000-8b5a-ff3c667c1127"
      },
      "outputs": [
        {
          "name": "stdout",
          "output_type": "stream",
          "text": [
            "{'Val MRR': 0.00016269531624857336, 'Val Hits@10': 0.012, 'Loss': 0.7198618531227112, 'Test Mean Rank': 22711.814453125, 'Test MRR': 0.00016269531624857336, 'Test Hits@10': 0.0}\n"
          ]
        }
      ],
      "source": [
        "model_save_name = 'model3.pt'\n",
        "path = f\"/content/gdrive/MyDrive/OGB_Folder/Trained models/{model_save_name}\"\n",
        "\n",
        "# Assuming `metrics` is a dictionary containing your evaluation metrics\n",
        "metrics = {'Val MRR': mrr, 'Val Hits@10': val_hits, 'Loss': loss, 'Test Mean Rank': rank, 'Test MRR': mrr, 'Test Hits@10': hits_at_10}\n",
        "\n",
        "# Save model state_dict and metrics\n",
        "torch.save({\n",
        "    'model_state_dict': model3.state_dict(),\n",
        "    'metrics': metrics\n",
        "}, path)\n",
        "\n",
        "print(metrics)"
      ]
    },
    {
      "cell_type": "markdown",
      "source": [
        "So, model 3 achived Val MRR of 0.00016 and 'Val Hits@10' of 0.012"
      ],
      "metadata": {
        "id": "-9IW2YQludZU"
      }
    },
    {
      "cell_type": "markdown",
      "metadata": {
        "id": "ks63hyFmWLW3"
      },
      "source": [
        "## Model 4\n",
        "\n",
        "For model 4, we tried increasing the subset of the training data to 35000, number of epochs to 300, the lr=0.002 and hidden_channels=30."
      ]
    },
    {
      "cell_type": "code",
      "execution_count": null,
      "metadata": {
        "colab": {
          "base_uri": "https://localhost:8080/"
        },
        "id": "rOrZsDwL0aoq",
        "outputId": "24bec2e9-fb27-4953-aa69-1193aee1d7e8",
        "cellView": "form"
      },
      "outputs": [
        {
          "output_type": "stream",
          "name": "stdout",
          "text": [
            "18524\n",
            "<class 'torch.Tensor'>\n",
            "<class 'torch.Tensor'>\n",
            "<class 'torch.Tensor'>\n",
            "<class 'torch.Tensor'>\n",
            "<class 'torch.Tensor'>\n",
            "<class 'torch.Tensor'>\n"
          ]
        }
      ],
      "source": [
        "# @title Model 4 code\n",
        "small_size = 35000\n",
        "\n",
        "small_sample=np.random.randint(len(train_set[\"head\"]),size=small_size)\n",
        "\n",
        "# Select a subset of the data\n",
        "small_train_set = {\n",
        "    'head': train_set['head'][small_sample],\n",
        "    'relation': train_set['relation'][small_sample],\n",
        "    'tail': train_set['tail'][small_sample],\n",
        "}\n",
        "\n",
        "unique_nodes = set(small_train_set['head']).union(set(small_train_set['tail']))\n",
        "rel_types = set(small_train_set['relation'])\n",
        "\n",
        "print(len(unique_nodes))\n",
        "\n",
        "small_test_size = int(small_size/5)\n",
        "small_test_set = {\n",
        "    'head': [0]*small_test_size,\n",
        "    'relation': [0]*small_test_size,\n",
        "    'tail': [0]*small_test_size,\n",
        "}\n",
        "\n",
        "index=0\n",
        "current_test_size=0\n",
        "\n",
        "while current_test_size < small_test_size:\n",
        "  if test_set['head'][index] in unique_nodes and test_set['tail'][index] in unique_nodes and test_set['relation'][index] in rel_types:\n",
        "    small_test_set[\"head\"][current_test_size] = test_set['head'][index]\n",
        "    small_test_set[\"relation\"][current_test_size] = test_set['relation'][index]\n",
        "    small_test_set[\"tail\"][current_test_size] = test_set['tail'][index]\n",
        "    current_test_size+=1\n",
        "  index+=1\n",
        "\n",
        "\n",
        "\n",
        "small_valid_size = int(small_size/5)  #\n",
        "\n",
        "small_valid_set = {\n",
        "    'head': [0] * small_valid_size,\n",
        "    'relation': [0] * small_valid_size,\n",
        "    'tail': [0] * small_valid_size,\n",
        "}\n",
        "\n",
        "index=0\n",
        "current_valid_size=0\n",
        "\n",
        "while current_valid_size < small_valid_size:\n",
        "  if valid_set['head'][index] in unique_nodes and valid_set['tail'][index] in unique_nodes and valid_set['relation'][index] in rel_types:\n",
        "    small_valid_set[\"head\"][current_valid_size] = valid_set['head'][index]\n",
        "    small_valid_set[\"relation\"][current_valid_size] = valid_set['relation'][index]\n",
        "    small_valid_set[\"tail\"][current_valid_size] = valid_set['tail'][index]\n",
        "    current_valid_size+=1\n",
        "  index+=1\n",
        "\n",
        "ent2idx={}\n",
        "for idx, val in enumerate(unique_nodes):\n",
        "  ent2idx[val]=idx\n",
        "\n",
        "rel2idx={}\n",
        "for idx, val in enumerate(rel_types):\n",
        "  rel2idx[val]=idx\n",
        "\n",
        "for i in range(small_size):\n",
        "  small_train_set[\"head\"][i] = ent2idx[small_train_set[\"head\"][i]]\n",
        "  small_train_set[\"relation\"][i] = rel2idx[small_train_set[\"relation\"][i]]\n",
        "  small_train_set[\"tail\"][i] = ent2idx[small_train_set[\"tail\"][i]]\n",
        "\n",
        "for i in range(small_test_size): #Techniqually you should also have one for validation, but they are the same size\n",
        "  small_test_set[\"head\"][i] = ent2idx[small_test_set[\"head\"][i]]\n",
        "  small_test_set[\"relation\"][i] = rel2idx[small_test_set[\"relation\"][i]]\n",
        "  small_test_set[\"tail\"][i] = ent2idx[small_test_set[\"tail\"][i]]\n",
        "\n",
        "  small_valid_set[\"head\"][i] = ent2idx[small_valid_set[\"head\"][i]]\n",
        "  small_valid_set[\"relation\"][i] = rel2idx[small_valid_set[\"relation\"][i]]\n",
        "  small_valid_set[\"tail\"][i] = ent2idx[small_valid_set[\"tail\"][i]]\n",
        "\n",
        "small_train_set[\"head\"] = np.asarray(small_train_set[\"head\"])\n",
        "small_train_set[\"relation\"] = np.asarray(small_train_set[\"relation\"])\n",
        "small_train_set[\"tail\"] = np.asarray(small_train_set[\"tail\"])\n",
        "\n",
        "small_test_set[\"head\"] = np.asarray(small_test_set[\"head\"])\n",
        "small_test_set[\"relation\"] = np.asarray(small_test_set[\"relation\"])\n",
        "small_test_set[\"tail\"] = np.asarray(small_test_set[\"tail\"])\n",
        "\n",
        "small_valid_set[\"head\"] = np.asarray(small_valid_set[\"head\"])\n",
        "small_valid_set[\"relation\"] = np.asarray(small_valid_set[\"relation\"])\n",
        "small_valid_set[\"tail\"] = np.asarray(small_valid_set[\"tail\"])\n",
        "\n",
        "head_tensor = torch.from_numpy(small_train_set['head'])\n",
        "print(type(head_tensor))\n",
        "rel_type_tensor = torch.from_numpy(small_train_set['relation'])\n",
        "print(type(rel_type_tensor))\n",
        "tail_tensor = torch.from_numpy(small_train_set['tail'])\n",
        "print(type(tail_tensor))\n",
        "\n",
        "test_head_tensor = torch.from_numpy(small_test_set['head'])\n",
        "print(type(test_head_tensor))\n",
        "test_rel_type_tensor = torch.from_numpy(small_test_set['relation'])\n",
        "print(type(test_rel_type_tensor))\n",
        "test_tail_tensor = torch.from_numpy(small_test_set['tail'])\n",
        "print(type(test_tail_tensor))"
      ]
    },
    {
      "cell_type": "code",
      "execution_count": null,
      "metadata": {
        "id": "OyskHl84XoAn"
      },
      "outputs": [],
      "source": [
        "model4 = ComplEx(num_nodes=num_nodes,\n",
        "                num_relations=num_relations,\n",
        "                hidden_channels=30)\n",
        "\n",
        "loader = model4.loader(\n",
        "    head_index=head_tensor,\n",
        "    rel_type=rel_type_tensor,\n",
        "    tail_index=tail_tensor,\n",
        "    batch_size=1000,\n",
        "    shuffle=True,\n",
        ")\n",
        "\n",
        "optimizer = optim.Adam(model4.parameters(), lr=0.002)"
      ]
    },
    {
      "cell_type": "code",
      "execution_count": null,
      "metadata": {
        "id": "01aXeGnuXn1k"
      },
      "outputs": [],
      "source": [
        "def train4():\n",
        "    model4.train()\n",
        "    total_loss = total_examples = 0\n",
        "    for head_index, rel_type, tail_index in loader:\n",
        "        optimizer.zero_grad()\n",
        "        loss = model4.loss(head_index, rel_type, tail_index)\n",
        "        loss.backward()\n",
        "        optimizer.step()\n",
        "        total_loss += float(loss) * head_index.numel()\n",
        "        total_examples += head_index.numel()\n",
        "    return total_loss / total_examples\n",
        "\n",
        "@torch.no_grad()\n",
        "def test4(head_index, rel_type, tail_index):\n",
        "    model4.eval()\n",
        "    return model4.test(\n",
        "        head_index=head_index,\n",
        "        rel_type=rel_type,\n",
        "        tail_index=tail_index,\n",
        "        batch_size=1000,\n",
        "        k=10,)"
      ]
    },
    {
      "cell_type": "code",
      "execution_count": null,
      "metadata": {
        "colab": {
          "background_save": true,
          "base_uri": "https://localhost:8080/"
        },
        "id": "sb5h2U71XrmB",
        "outputId": "008f2a25-ca38-4bb1-82b3-a364ea543c2c"
      },
      "outputs": [
        {
          "name": "stderr",
          "output_type": "stream",
          "text": [
            "100%|██████████| 7000/7000 [03:52<00:00, 30.12it/s]\n"
          ]
        },
        {
          "name": "stdout",
          "output_type": "stream",
          "text": [
            "Epoch: 050, Test Mean Rank: 8187.36, Test MRR: 0.0155, Test Hits@10: 0.0251 Loss: 0.242531106727464\n"
          ]
        },
        {
          "name": "stderr",
          "output_type": "stream",
          "text": [
            "100%|██████████| 7000/7000 [03:53<00:00, 30.02it/s]\n"
          ]
        },
        {
          "name": "stdout",
          "output_type": "stream",
          "text": [
            "Epoch: 100, Test Mean Rank: 8450.81, Test MRR: 0.0135, Test Hits@10: 0.0239 Loss: 0.084217340605600\n"
          ]
        },
        {
          "name": "stderr",
          "output_type": "stream",
          "text": [
            "100%|██████████| 7000/7000 [03:52<00:00, 30.05it/s]\n"
          ]
        },
        {
          "name": "stdout",
          "output_type": "stream",
          "text": [
            "Epoch: 150, Test Mean Rank: 8823.77, Test MRR: 0.0129, Test Hits@10: 0.0214 Loss: 0.047549438104033\n"
          ]
        },
        {
          "name": "stderr",
          "output_type": "stream",
          "text": [
            "100%|██████████| 7000/7000 [03:50<00:00, 30.39it/s]\n"
          ]
        },
        {
          "name": "stdout",
          "output_type": "stream",
          "text": [
            "Epoch: 200, Test Mean Rank: 9050.91, Test MRR: 0.0114, Test Hits@10: 0.0180 Loss: 0.026346501388720\n"
          ]
        },
        {
          "name": "stderr",
          "output_type": "stream",
          "text": [
            "100%|██████████| 7000/7000 [03:53<00:00, 29.98it/s]\n"
          ]
        },
        {
          "name": "stdout",
          "output_type": "stream",
          "text": [
            "Epoch: 250, Test Mean Rank: 9281.16, Test MRR: 0.0121, Test Hits@10: 0.0186 Loss: 0.015610543438899\n"
          ]
        },
        {
          "name": "stderr",
          "output_type": "stream",
          "text": [
            "100%|██████████| 7000/7000 [03:44<00:00, 31.22it/s]\n"
          ]
        },
        {
          "name": "stdout",
          "output_type": "stream",
          "text": [
            "Epoch: 300, Test Mean Rank: 9392.54, Test MRR: 0.0125, Test Hits@10: 0.0200 Loss: 0.009884374655251\n"
          ]
        }
      ],
      "source": [
        "for epoch in range(1, 301):\n",
        "    loss = train4()\n",
        "    if epoch % 50 == 0:\n",
        "        rank, mrr, hits = test4(test_head_tensor, test_rel_type_tensor, test_tail_tensor)\n",
        "        print(f'Epoch: {epoch:03d}, Test Mean Rank: {rank:.2f}, '\n",
        "              f'Test MRR: {mrr:.4f}, Test Hits@10: {hits:.4f} '\n",
        "              f'Loss: {loss:.15f}')\n"
      ]
    },
    {
      "cell_type": "markdown",
      "source": [
        "The model4.state_dict was not properly saved, but these were the results.\n",
        "\n",
        "```\n",
        "100%|██████████| 7000/7000\n",
        "Epoch: 050, Test Mean Rank: 8187.36, Test MRR: 0.0155, Test Hits@10: 0.0251 Loss: 0.242531106727464\n",
        "100%|██████████| 7000/7000\n",
        "Epoch: 100, Test Mean Rank: 8450.81, Test MRR: 0.0135, Test Hits@10: 0.0239 Loss: 0.084217340605600\n",
        "100%|██████████| 7000/7000\n",
        "Epoch: 150, Test Mean Rank: 8823.77, Test MRR: 0.0129, Test Hits@10: 0.0214 Loss: 0.047549438104033\n",
        "100%|██████████| 7000/7000\n",
        "Epoch: 200, Test Mean Rank: 9050.91, Test MRR: 0.0114, Test Hits@10: 0.0180 Loss: 0.026346501388720\n",
        "100%|██████████| 7000/7000\n",
        "Epoch: 250, Test Mean Rank: 9281.16, Test MRR: 0.0121, Test Hits@10: 0.0186 Loss: 0.015610543438899\n",
        "100%|██████████| 7000/7000\n",
        "Epoch: 300, Test Mean Rank: 9392.54, Test MRR: 0.0125, Test Hits@10: 0.0200 Loss: 0.009884374655251\n",
        "```\n",
        "\n"
      ],
      "metadata": {
        "id": "mkNmG1wuw68_"
      }
    },
    {
      "cell_type": "markdown",
      "source": [
        "## Model 5 - same hyperparameters as model 4 but with an L2 regularizer: weight_decay=0.001"
      ],
      "metadata": {
        "id": "XiAhn5Q-gx5c"
      }
    },
    {
      "cell_type": "code",
      "execution_count": null,
      "metadata": {
        "colab": {
          "base_uri": "https://localhost:8080/"
        },
        "outputId": "f725d133-9862-4309-d11c-1ee419868be1",
        "id": "CXsK7bS5g0N6"
      },
      "outputs": [
        {
          "output_type": "stream",
          "name": "stdout",
          "text": [
            "18532\n",
            "<class 'torch.Tensor'>\n",
            "<class 'torch.Tensor'>\n",
            "<class 'torch.Tensor'>\n",
            "<class 'torch.Tensor'>\n",
            "<class 'torch.Tensor'>\n",
            "<class 'torch.Tensor'>\n"
          ]
        }
      ],
      "source": [
        "small_size = 35000\n",
        "\n",
        "small_sample=np.random.randint(len(train_set[\"head\"]),size=small_size)\n",
        "\n",
        "small_train_set = {\n",
        "    'head': train_set['head'][small_sample],\n",
        "    'relation': train_set['relation'][small_sample],\n",
        "    'tail': train_set['tail'][small_sample],\n",
        "}\n",
        "\n",
        "unique_nodes = set(small_train_set['head']).union(set(small_train_set['tail']))\n",
        "rel_types = set(small_train_set['relation'])\n",
        "\n",
        "print(len(unique_nodes))\n",
        "\n",
        "small_test_size = int(small_size/5)\n",
        "small_test_set = {\n",
        "    'head': [0]*small_test_size,\n",
        "    'relation': [0]*small_test_size,\n",
        "    'tail': [0]*small_test_size,\n",
        "}\n",
        "\n",
        "index=0\n",
        "current_test_size=0\n",
        "\n",
        "while current_test_size < small_test_size:\n",
        "  if test_set['head'][index] in unique_nodes and test_set['tail'][index] in unique_nodes and test_set['relation'][index] in rel_types:\n",
        "    small_test_set[\"head\"][current_test_size] = test_set['head'][index]\n",
        "    small_test_set[\"relation\"][current_test_size] = test_set['relation'][index]\n",
        "    small_test_set[\"tail\"][current_test_size] = test_set['tail'][index]\n",
        "    current_test_size+=1\n",
        "  index+=1\n",
        "\n",
        "small_valid_size = int(small_size/5)\n",
        "\n",
        "small_valid_set = {\n",
        "    'head': [0] * small_valid_size,\n",
        "    'relation': [0] * small_valid_size,\n",
        "    'tail': [0] * small_valid_size,\n",
        "}\n",
        "\n",
        "index=0\n",
        "current_valid_size=0\n",
        "\n",
        "while current_valid_size < small_valid_size:\n",
        "  if valid_set['head'][index] in unique_nodes and valid_set['tail'][index] in unique_nodes and valid_set['relation'][index] in rel_types:\n",
        "    small_valid_set[\"head\"][current_valid_size] = valid_set['head'][index]\n",
        "    small_valid_set[\"relation\"][current_valid_size] = valid_set['relation'][index]\n",
        "    small_valid_set[\"tail\"][current_valid_size] = valid_set['tail'][index]\n",
        "    current_valid_size+=1\n",
        "  index+=1\n",
        "\n",
        "\n",
        "ent2idx={}\n",
        "for idx, val in enumerate(unique_nodes):\n",
        "  ent2idx[val]=idx\n",
        "\n",
        "rel2idx={}\n",
        "for idx, val in enumerate(rel_types):\n",
        "  rel2idx[val]=idx\n",
        "\n",
        "for i in range(small_size):\n",
        "  small_train_set[\"head\"][i] = ent2idx[small_train_set[\"head\"][i]]\n",
        "  small_train_set[\"relation\"][i] = rel2idx[small_train_set[\"relation\"][i]]\n",
        "  small_train_set[\"tail\"][i] = ent2idx[small_train_set[\"tail\"][i]]\n",
        "\n",
        "for i in range(small_test_size): #Techniqually you should also have one for validation, but they are the same size\n",
        "  small_test_set[\"head\"][i] = ent2idx[small_test_set[\"head\"][i]]\n",
        "  small_test_set[\"relation\"][i] = rel2idx[small_test_set[\"relation\"][i]]\n",
        "  small_test_set[\"tail\"][i] = ent2idx[small_test_set[\"tail\"][i]]\n",
        "\n",
        "  small_valid_set[\"head\"][i] = ent2idx[small_valid_set[\"head\"][i]]\n",
        "  small_valid_set[\"relation\"][i] = rel2idx[small_valid_set[\"relation\"][i]]\n",
        "  small_valid_set[\"tail\"][i] = ent2idx[small_valid_set[\"tail\"][i]]\n",
        "\n",
        "small_train_set[\"head\"] = np.asarray(small_train_set[\"head\"])\n",
        "small_train_set[\"relation\"] = np.asarray(small_train_set[\"relation\"])\n",
        "small_train_set[\"tail\"] = np.asarray(small_train_set[\"tail\"])\n",
        "\n",
        "small_test_set[\"head\"] = np.asarray(small_test_set[\"head\"])\n",
        "small_test_set[\"relation\"] = np.asarray(small_test_set[\"relation\"])\n",
        "small_test_set[\"tail\"] = np.asarray(small_test_set[\"tail\"])\n",
        "\n",
        "small_valid_set[\"head\"] = np.asarray(small_valid_set[\"head\"])\n",
        "small_valid_set[\"relation\"] = np.asarray(small_valid_set[\"relation\"])\n",
        "small_valid_set[\"tail\"] = np.asarray(small_valid_set[\"tail\"])\n",
        "\n",
        "head_tensor = torch.from_numpy(small_train_set['head'])\n",
        "print(type(head_tensor))\n",
        "rel_type_tensor = torch.from_numpy(small_train_set['relation'])\n",
        "print(type(rel_type_tensor))\n",
        "tail_tensor = torch.from_numpy(small_train_set['tail'])\n",
        "print(type(tail_tensor))\n",
        "\n",
        "test_head_tensor = torch.from_numpy(small_test_set['head'])\n",
        "print(type(test_head_tensor))\n",
        "test_rel_type_tensor = torch.from_numpy(small_test_set['relation'])\n",
        "print(type(test_rel_type_tensor))\n",
        "test_tail_tensor = torch.from_numpy(small_test_set['tail'])\n",
        "print(type(test_tail_tensor))"
      ]
    },
    {
      "cell_type": "code",
      "execution_count": null,
      "metadata": {
        "id": "gNvWwV46g0OJ"
      },
      "outputs": [],
      "source": [
        "model5 = ComplEx(num_nodes=num_nodes,\n",
        "                num_relations=num_relations,\n",
        "                hidden_channels=30)\n",
        "\n",
        "loader = model5.loader(\n",
        "    head_index=head_tensor,\n",
        "    rel_type=rel_type_tensor,\n",
        "    tail_index=tail_tensor,\n",
        "    batch_size=1000,  #\n",
        "    shuffle=True,\n",
        ")\n",
        "\n",
        "optimizer = optim.Adam(model5.parameters(), lr=0.002, weight_decay=0.001)"
      ]
    },
    {
      "cell_type": "code",
      "execution_count": null,
      "metadata": {
        "id": "pDNsj4iUg0OJ"
      },
      "outputs": [],
      "source": [
        "def train5():\n",
        "    model5.train()\n",
        "    total_loss = total_examples = 0\n",
        "    for head_index, rel_type, tail_index in loader:\n",
        "        optimizer.zero_grad()\n",
        "        loss = model5.loss(head_index, rel_type, tail_index)\n",
        "        loss.backward()\n",
        "        optimizer.step()\n",
        "        total_loss += float(loss) * head_index.numel()\n",
        "        total_examples += head_index.numel()\n",
        "    return total_loss / total_examples\n",
        "\n",
        "@torch.no_grad()\n",
        "def test5(head_index, rel_type, tail_index):\n",
        "    model5.eval()\n",
        "    return model5.test(\n",
        "        head_index=head_index,\n",
        "        rel_type=rel_type,\n",
        "        tail_index=tail_index,\n",
        "        batch_size=1000,\n",
        "        k=10,)"
      ]
    },
    {
      "cell_type": "code",
      "execution_count": null,
      "metadata": {
        "colab": {
          "base_uri": "https://localhost:8080/"
        },
        "outputId": "5014b64e-588a-413a-f1a0-781d36209d41",
        "id": "ITb8Qxr5g0OK"
      },
      "outputs": [
        {
          "output_type": "stream",
          "name": "stderr",
          "text": [
            "100%|██████████| 7000/7000 [09:12<00:00, 12.67it/s]\n"
          ]
        },
        {
          "output_type": "stream",
          "name": "stdout",
          "text": [
            "Epoch: 050, Test Mean Rank: 22467.38, Test MRR: 0.0002, Test Hits@10: 0.0001 Loss: 0.693147420883179\n"
          ]
        },
        {
          "output_type": "stream",
          "name": "stderr",
          "text": [
            "100%|██████████| 7000/7000 [08:54<00:00, 13.11it/s]\n"
          ]
        },
        {
          "output_type": "stream",
          "name": "stdout",
          "text": [
            "Epoch: 100, Test Mean Rank: 22619.37, Test MRR: 0.0002, Test Hits@10: 0.0003 Loss: 0.693147420883179\n"
          ]
        },
        {
          "output_type": "stream",
          "name": "stderr",
          "text": [
            "100%|██████████| 7000/7000 [03:52<00:00, 30.05it/s]\n"
          ]
        },
        {
          "output_type": "stream",
          "name": "stdout",
          "text": [
            "Epoch: 150, Test Mean Rank: 22599.05, Test MRR: 0.0002, Test Hits@10: 0.0000 Loss: 0.693147420883179\n"
          ]
        },
        {
          "output_type": "stream",
          "name": "stderr",
          "text": [
            "100%|██████████| 7000/7000 [03:46<00:00, 30.90it/s]\n"
          ]
        },
        {
          "output_type": "stream",
          "name": "stdout",
          "text": [
            "Epoch: 200, Test Mean Rank: 22594.81, Test MRR: 0.0002, Test Hits@10: 0.0000 Loss: 0.693147420883179\n"
          ]
        },
        {
          "output_type": "stream",
          "name": "stderr",
          "text": [
            "100%|██████████| 7000/7000 [03:46<00:00, 30.88it/s]\n"
          ]
        },
        {
          "output_type": "stream",
          "name": "stdout",
          "text": [
            "Epoch: 250, Test Mean Rank: 22574.89, Test MRR: 0.0002, Test Hits@10: 0.0000 Loss: 0.693147420883179\n"
          ]
        },
        {
          "output_type": "stream",
          "name": "stderr",
          "text": [
            "100%|██████████| 7000/7000 [03:45<00:00, 31.02it/s]"
          ]
        },
        {
          "output_type": "stream",
          "name": "stdout",
          "text": [
            "Epoch: 300, Test Mean Rank: 22592.53, Test MRR: 0.0002, Test Hits@10: 0.0000 Loss: 0.693147420883179\n"
          ]
        },
        {
          "output_type": "stream",
          "name": "stderr",
          "text": [
            "\n"
          ]
        }
      ],
      "source": [
        "for epoch in range(1, 301):\n",
        "    loss = train5()\n",
        "    if epoch % 50 == 0:\n",
        "        rank, mrr, hits = test5(test_head_tensor, test_rel_type_tensor, test_tail_tensor)\n",
        "        print(f'Epoch: {epoch:03d}, Test Mean Rank: {rank:.2f}, '\n",
        "              f'Test MRR: {mrr:.4f}, Test Hits@10: {hits:.4f} '\n",
        "              f'Loss: {loss:.15f}')\n"
      ]
    },
    {
      "cell_type": "markdown",
      "source": [
        "As mentioned, when we introduced an L2 regularizer the loss becamse stuck.\n",
        "```\n",
        "100%|██████████| 7000/7000 [09:12<00:00, 12.67it/s]\n",
        "Epoch: 050, Test Mean Rank: 22467.38, Test MRR: 0.0002, Test Hits@10: 0.0001 Loss: 0.693147420883179\n",
        "100%|██████████| 7000/7000 [08:54<00:00, 13.11it/s]\n",
        "Epoch: 100, Test Mean Rank: 22619.37, Test MRR: 0.0002, Test Hits@10: 0.0003 Loss: 0.693147420883179\n",
        "100%|██████████| 7000/7000 [03:52<00:00, 30.05it/s]\n",
        "Epoch: 150, Test Mean Rank: 22599.05, Test MRR: 0.0002, Test Hits@10: 0.0000 Loss: 0.693147420883179\n",
        "100%|██████████| 7000/7000 [03:46<00:00, 30.90it/s]\n",
        "Epoch: 200, Test Mean Rank: 22594.81, Test MRR: 0.0002, Test Hits@10: 0.0000 Loss: 0.693147420883179\n",
        "100%|██████████| 7000/7000 [03:46<00:00, 30.88it/s]\n",
        "Epoch: 250, Test Mean Rank: 22574.89, Test MRR: 0.0002, Test Hits@10: 0.0000 Loss: 0.693147420883179\n",
        "100%|██████████| 7000/7000 [03:45<00:00, 31.02it/s]Epoch: 300, Test Mean Rank: 22592.53, Test MRR: 0.0002, Test Hits@10: 0.0000 Loss: 0.693147420883179\n",
        "```\n",
        "\n"
      ],
      "metadata": {
        "id": "dBLHFZoEx-HT"
      }
    }
  ],
  "metadata": {
    "accelerator": "GPU",
    "colab": {
      "gpuType": "T4",
      "provenance": [],
      "include_colab_link": true
    },
    "kernelspec": {
      "display_name": "Python 3",
      "name": "python3"
    },
    "language_info": {
      "name": "python"
    }
  },
  "nbformat": 4,
  "nbformat_minor": 0
}